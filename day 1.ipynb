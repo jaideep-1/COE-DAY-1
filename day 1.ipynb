{
 "cells": [
  {
   "cell_type": "code",
   "execution_count": 1,
   "id": "7a9f297b-5a1a-46c5-9391-80e9fd133741",
   "metadata": {},
   "outputs": [
    {
     "name": "stdout",
     "output_type": "stream",
     "text": [
      " 5\n"
     ]
    },
    {
     "name": "stdout",
     "output_type": "stream",
     "text": [
      "78.5\n"
     ]
    }
   ],
   "source": [
    "r = int(input())\n",
    "area = 3.14 * r*r\n",
    "print(area)"
   ]
  },
  {
   "cell_type": "code",
   "execution_count": 3,
   "id": "d553088c-1682-4df2-af2f-44d3175d230f",
   "metadata": {},
   "outputs": [
    {
     "name": "stdout",
     "output_type": "stream",
     "text": [
      " jaideep\n"
     ]
    },
    {
     "name": "stdout",
     "output_type": "stream",
     "text": [
      "Number of vowels: 4\n"
     ]
    }
   ],
   "source": [
    "x = input()\n",
    "count = 0\n",
    "vowels = \"aeiouAEIOU\"\n",
    "\n",
    "for char in x:\n",
    "    if char in vowels:\n",
    "        count += 1\n",
    "\n",
    "print(\"Number of vowels:\", count)"
   ]
  },
  {
   "cell_type": "code",
   "execution_count": 4,
   "id": "d3a60e4a-9379-421d-8298-7505211f4eeb",
   "metadata": {},
   "outputs": [
    {
     "name": "stdout",
     "output_type": "stream",
     "text": [
      " jaideep\n"
     ]
    },
    {
     "name": "stdout",
     "output_type": "stream",
     "text": [
      "Number of consonants: 3\n"
     ]
    }
   ],
   "source": [
    "x = input()\n",
    "count = 0\n",
    "vowels = \"aeiouAEIOU\"\n",
    "\n",
    "for char in x:\n",
    "    if char not in vowels:\n",
    "        count += 1\n",
    "\n",
    "print(\"Number of consonants:\", count)"
   ]
  },
  {
   "cell_type": "code",
   "execution_count": 5,
   "id": "07bad4e5-e175-4158-a4dc-f275993f3f40",
   "metadata": {},
   "outputs": [
    {
     "name": "stdout",
     "output_type": "stream",
     "text": [
      "[25, 42, 56, 65, 40, 30]\n"
     ]
    }
   ],
   "source": [
    "x = [30,42,56,70,45,35]\n",
    "for i in range(len(x)):\n",
    "  if x[i] % 5 == 0 :\n",
    "    x[i] -=5\n",
    "  else:\n",
    "    x[i] += 0 \n",
    "print(x)"
   ]
  },
  {
   "cell_type": "code",
   "execution_count": 6,
   "id": "803a0845-b2d4-4dcc-b736-b78868b5df73",
   "metadata": {},
   "outputs": [
    {
     "name": "stdout",
     "output_type": "stream",
     "text": [
      "[23, 45, 99, 20]\n",
      "[24, 67, 54]\n"
     ]
    }
   ],
   "source": [
    " x = [23,24,45,67,99,54,20]\n",
    " y =[]\n",
    " z = []\n",
    " for i in range(len(x)):\n",
    "  if i % 2 == 0:\n",
    "    y.append(x[i])\n",
    "  else:\n",
    "    z.append(x[i])\n",
    " print(y)\n",
    " print(z)\n"
   ]
  },
  {
   "cell_type": "code",
   "execution_count": 7,
   "id": "7dd70082-ecb2-4e99-926f-7a4f5b8d1d8f",
   "metadata": {},
   "outputs": [
    {
     "name": "stdout",
     "output_type": "stream",
     "text": [
      "150\n",
      "310\n"
     ]
    }
   ],
   "source": [
    "x = [20,35,45,30,60,75,85,45,25,40]\n",
    "e_sum =0\n",
    "o_sum =0\n",
    "for num in x:\n",
    "  if num % 2 ==0:\n",
    "    e_sum += num\n",
    "  else:\n",
    "    o_sum += num\n",
    "print(e_sum)\n",
    "print(o_sum)"
   ]
  },
  {
   "cell_type": "code",
   "execution_count": 8,
   "id": "f960619d-00c8-4ef7-8e00-c683953c567b",
   "metadata": {},
   "outputs": [
    {
     "name": "stdout",
     "output_type": "stream",
     "text": [
      "['Delhi', 'Dubai', 'Dadar', 'Danish']\n"
     ]
    }
   ],
   "source": [
    "x = ['Mumbai','Hyd','Delhi','Dubai','Jaipur','Kolkata','Chennai','Dadar','Danish','Manipur','Haridwar','Hampi','Kakinada']\n",
    "d=[]\n",
    "for item in x:\n",
    "  if item.startswith('D'):\n",
    "    d.append(item)\n",
    "print(d)\n"
   ]
  },
  {
   "cell_type": "code",
   "execution_count": 9,
   "id": "00a36a9a-a8bf-432a-b555-a102dea9e2eb",
   "metadata": {},
   "outputs": [
    {
     "name": "stdout",
     "output_type": "stream",
     "text": [
      "{50: 'Mumbai', 40: 'Hyd', 30: 'Delhi', 20: 'Dubai', 100: 'Jaipur', 350: 'Kolkata', 280: 'Chennai', 200: 'Dadar'}\n"
     ]
    }
   ],
   "source": [
    "x = ['Mumbai','Hyd','Delhi','Dubai','Jaipur','Kolkata','Chennai','Dadar']\n",
    "y=[50,40,30,20,100,350,280,200]\n",
    "s={}\n",
    "for i in range(len(x)):\n",
    "  s[y[i]] = x[i]\n",
    "  \n",
    "print(s)"
   ]
  },
  {
   "cell_type": "code",
   "execution_count": 3,
   "id": "a4f96e36-b2cd-41c2-8217-ac5d16a1d90f",
   "metadata": {},
   "outputs": [
    {
     "name": "stdout",
     "output_type": "stream",
     "text": [
      "Mumbai\n",
      "Hyd\n",
      "Delhi\n",
      "Dubai\n"
     ]
    }
   ],
   "source": [
    "x = {\"Mumbai\" : 50 , \"Hyd\" : 40,\"Delhi\":30,\"Dubai\":20,\"Jaipur\":100,\"kol\":350,\"chenn\":280,\"Dadar\":200}\n",
    "for city , pop in x.items():\n",
    "    if pop < 100:\n",
    "        print(city)"
   ]
  },
  {
   "cell_type": "code",
   "execution_count": 8,
   "id": "7ea77095-a9d2-464b-b981-fd7b8ef0e5e4",
   "metadata": {},
   "outputs": [
    {
     "data": {
      "text/plain": [
       "78.5"
      ]
     },
     "execution_count": 8,
     "metadata": {},
     "output_type": "execute_result"
    }
   ],
   "source": [
    "def aoc(radius):\n",
    "    area = 3.14 * radius * radius\n",
    "    return area\n",
    "aoc(5)"
   ]
  },
  {
   "cell_type": "code",
   "execution_count": 10,
   "id": "67c5b9f9-fa8f-421c-9355-30e5d300856d",
   "metadata": {},
   "outputs": [
    {
     "data": {
      "text/plain": [
       "4"
      ]
     },
     "execution_count": 10,
     "metadata": {},
     "output_type": "execute_result"
    }
   ],
   "source": [
    "def count_vowels(text):\n",
    "    vowels = \"aeiouAEIOU\"\n",
    "    count =0\n",
    "    for char in text:\n",
    "        if char in vowels:\n",
    "            count +=1\n",
    "    return count\n",
    "count_vowels(\"Jaideep\")\n",
    "    "
   ]
  },
  {
   "cell_type": "code",
   "execution_count": 11,
   "id": "9baed914-3896-48e3-b1a3-3154aa5a437b",
   "metadata": {},
   "outputs": [
    {
     "data": {
      "text/plain": [
       "3"
      ]
     },
     "execution_count": 11,
     "metadata": {},
     "output_type": "execute_result"
    }
   ],
   "source": [
    "def count_vowels(text):\n",
    "    vowels = \"aeiouAEIOU\"\n",
    "    count =0\n",
    "    for char in text:\n",
    "        if char  not in vowels:\n",
    "            count +=1\n",
    "    return count\n",
    "count_vowels(\"Jaideep\")\n",
    "    "
   ]
  },
  {
   "cell_type": "code",
   "execution_count": 13,
   "id": "fb5f0047-de8a-4c20-985c-25df91ce6ccb",
   "metadata": {},
   "outputs": [
    {
     "name": "stdout",
     "output_type": "stream",
     "text": [
      "[25, 42, 56, 65, 40, 30]\n"
     ]
    }
   ],
   "source": [
    "def red(x):\n",
    "#x = [30,42,56,70,45,35]\n",
    "    for i in range(len(x)):\n",
    "      if x[i] % 5 == 0 :\n",
    "        x[i] -=5\n",
    "    return x \n",
    "num =  [30,42,56,70,45,35]\n",
    "result = red(num)\n",
    "print(result)"
   ]
  },
  {
   "cell_type": "code",
   "execution_count": 14,
   "id": "3fe18c7b-87d7-427e-bbc8-636350e644af",
   "metadata": {},
   "outputs": [
    {
     "name": "stdout",
     "output_type": "stream",
     "text": [
      "[23, 45, 99, 20]\n",
      "[24, 67, 54]\n"
     ]
    }
   ],
   "source": [
    "def split_list(x):\n",
    "    y = []\n",
    "    z = []\n",
    "    for i in range(len(x)):\n",
    "        if i % 2 == 0:\n",
    "            y.append(x[i])\n",
    "        else:\n",
    "            z.append(x[i])\n",
    "    return y, z\n",
    "\n",
    "\n",
    "x = [23, 24, 45, 67, 99, 54, 20]\n",
    "y, z = split_list(x)\n",
    "\n",
    "print(y)\n",
    "print(z)\n"
   ]
  },
  {
   "cell_type": "code",
   "execution_count": 15,
   "id": "80ae2358-62a5-4315-9256-322341ab4306",
   "metadata": {},
   "outputs": [
    {
     "name": "stdout",
     "output_type": "stream",
     "text": [
      "150\n",
      "310\n"
     ]
    }
   ],
   "source": [
    "def sum(x):\n",
    "\n",
    "    e_sum =0\n",
    "    o_sum =0\n",
    "    for num in x:\n",
    "      if num % 2 ==0:\n",
    "        e_sum += num\n",
    "      else:\n",
    "        o_sum += num\n",
    "    return e_sum ,o_sum\n",
    "x = [20,35,45,30,60,75,85,45,25,40]\n",
    "e_sum,o_sum = sum(x)\n",
    "print(e_sum)\n",
    "print(o_sum)"
   ]
  },
  {
   "cell_type": "code",
   "execution_count": 16,
   "id": "24f819ee-4797-4162-9cc3-1654f54e8c3d",
   "metadata": {},
   "outputs": [
    {
     "name": "stdout",
     "output_type": "stream",
     "text": [
      "['Delhi', 'Dubai', 'Dadar', 'Danish']\n"
     ]
    }
   ],
   "source": [
    "def startD(x):\n",
    "\n",
    "    d=[]\n",
    "    for item in x:\n",
    "      if item.startswith('D'):\n",
    "        d.append(item)\n",
    "    return d\n",
    "x = ['Mumbai','Hyd','Delhi','Dubai','Jaipur','Kolkata','Chennai','Dadar','Danish','Manipur','Haridwar','Hampi','Kakinada']\n",
    "d = startD(x)\n",
    "print(d)\n"
   ]
  },
  {
   "cell_type": "code",
   "execution_count": 18,
   "id": "46124fce-9eb5-4917-b1c5-ca7ec7e62654",
   "metadata": {},
   "outputs": [
    {
     "name": "stdout",
     "output_type": "stream",
     "text": [
      "{50: 'Mumbai', 40: 'Hyd', 30: 'Delhi', 20: 'Dubai', 100: 'Jaipur', 350: 'Kolkata', 280: 'Chennai', 200: 'Dadar'}\n"
     ]
    }
   ],
   "source": [
    "def city(x):\n",
    "\n",
    "    y=[50,40,30,20,100,350,280,200]\n",
    "    s={}\n",
    "    for i in range(len(x)):\n",
    "      s[y[i]] = x[i]\n",
    "    return s\n",
    "x = ['Mumbai','Hyd','Delhi','Dubai','Jaipur','Kolkata','Chennai','Dadar']\n",
    "s = city(x)\n",
    "print(s)"
   ]
  },
  {
   "cell_type": "code",
   "execution_count": 21,
   "id": "720a1a97-263e-4e85-894e-6bb19d9e504d",
   "metadata": {},
   "outputs": [
    {
     "name": "stdout",
     "output_type": "stream",
     "text": [
      "['Mumbai', 'Hyd', 'Delhi', 'Dubai']\n"
     ]
    }
   ],
   "source": [
    "def cityy(x):\n",
    "    result=[]\n",
    "    for city , pop in x.items():\n",
    "        if pop < 100:\n",
    "            result.append(city)\n",
    "    return result\n",
    "x = {\"Mumbai\" : 50 , \"Hyd\" : 40,\"Delhi\":30,\"Dubai\":20,\"Jaipur\":100,\"kol\":350,\"chenn\":280,\"Dadar\":200}\n",
    "cities = cityy(x)\n",
    "print(cities)"
   ]
  },
  {
   "cell_type": "code",
   "execution_count": null,
   "id": "dfc6477e-77ba-4e2d-a3bd-db932e1ac687",
   "metadata": {},
   "outputs": [],
   "source": []
  }
 ],
 "metadata": {
  "kernelspec": {
   "display_name": "Python [conda env:base] *",
   "language": "python",
   "name": "conda-base-py"
  },
  "language_info": {
   "codemirror_mode": {
    "name": "ipython",
    "version": 3
   },
   "file_extension": ".py",
   "mimetype": "text/x-python",
   "name": "python",
   "nbconvert_exporter": "python",
   "pygments_lexer": "ipython3",
   "version": "3.13.5"
  }
 },
 "nbformat": 4,
 "nbformat_minor": 5
}
